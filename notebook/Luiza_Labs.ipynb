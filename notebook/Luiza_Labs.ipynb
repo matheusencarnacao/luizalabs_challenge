{
  "nbformat": 4,
  "nbformat_minor": 0,
  "metadata": {
    "colab": {
      "name": "Luiza Labs.ipynb",
      "provenance": [],
      "collapsed_sections": []
    },
    "kernelspec": {
      "name": "python3",
      "display_name": "Python 3"
    },
    "language_info": {
      "name": "python"
    }
  },
  "cells": [
    {
      "cell_type": "code",
      "metadata": {
        "colab": {
          "base_uri": "https://localhost:8080/"
        },
        "id": "Sqf_M4TaGJ2n",
        "outputId": "b96bb847-e701-4f84-b77f-a7c6fa69f6ff"
      },
      "source": [
        "!apt-get update\n",
        "!apt-get install openjdk-8-jdk-headless -qq > /dev/null\n",
        "!wget -q https://downloads.apache.org/spark/spark-2.4.7/spark-2.4.7-bin-hadoop2.7.tgz\n",
        "!tar xf spark-2.4.7-bin-hadoop2.7.tgz\n",
        "!pip install -q findspark\n",
        "!pip install -q pyspark"
      ],
      "execution_count": null,
      "outputs": [
        {
          "output_type": "stream",
          "text": [
            "\r0% [Working]\r            \rGet:1 http://security.ubuntu.com/ubuntu bionic-security InRelease [88.7 kB]\n",
            "Get:2 https://cloud.r-project.org/bin/linux/ubuntu bionic-cran40/ InRelease [3,626 B]\n",
            "Ign:3 https://developer.download.nvidia.com/compute/cuda/repos/ubuntu1804/x86_64  InRelease\n",
            "Get:4 http://ppa.launchpad.net/c2d4u.team/c2d4u4.0+/ubuntu bionic InRelease [15.9 kB]\n",
            "Ign:5 https://developer.download.nvidia.com/compute/machine-learning/repos/ubuntu1804/x86_64  InRelease\n",
            "Get:6 https://developer.download.nvidia.com/compute/cuda/repos/ubuntu1804/x86_64  Release [697 B]\n",
            "Hit:7 https://developer.download.nvidia.com/compute/machine-learning/repos/ubuntu1804/x86_64  Release\n",
            "Get:8 https://developer.download.nvidia.com/compute/cuda/repos/ubuntu1804/x86_64  Release.gpg [836 B]\n",
            "Hit:9 http://ppa.launchpad.net/cran/libgit2/ubuntu bionic InRelease\n",
            "Get:10 https://cloud.r-project.org/bin/linux/ubuntu bionic-cran40/ Packages [55.5 kB]\n",
            "Hit:11 http://ppa.launchpad.net/deadsnakes/ppa/ubuntu bionic InRelease\n",
            "Get:12 http://security.ubuntu.com/ubuntu bionic-security/universe amd64 Packages [1,410 kB]\n",
            "Get:13 http://ppa.launchpad.net/graphics-drivers/ppa/ubuntu bionic InRelease [21.3 kB]\n",
            "Get:14 http://security.ubuntu.com/ubuntu bionic-security/main amd64 Packages [2,119 kB]\n",
            "Get:16 http://ppa.launchpad.net/c2d4u.team/c2d4u4.0+/ubuntu bionic/main Sources [1,759 kB]\n",
            "Ign:17 https://developer.download.nvidia.com/compute/cuda/repos/ubuntu1804/x86_64  Packages\n",
            "Get:17 https://developer.download.nvidia.com/compute/cuda/repos/ubuntu1804/x86_64  Packages [770 kB]\n",
            "Get:18 http://ppa.launchpad.net/c2d4u.team/c2d4u4.0+/ubuntu bionic/main amd64 Packages [900 kB]\n",
            "Get:19 http://ppa.launchpad.net/graphics-drivers/ppa/ubuntu bionic/main amd64 Packages [41.5 kB]\n",
            "Hit:20 http://archive.ubuntu.com/ubuntu bionic InRelease\n",
            "Get:21 http://archive.ubuntu.com/ubuntu bionic-updates InRelease [88.7 kB]\n",
            "Get:22 http://archive.ubuntu.com/ubuntu bionic-backports InRelease [74.6 kB]\n",
            "Get:23 http://archive.ubuntu.com/ubuntu bionic-updates/universe amd64 Packages [2,183 kB]\n",
            "Get:24 http://archive.ubuntu.com/ubuntu bionic-updates/main amd64 Packages [2,579 kB]\n",
            "Get:25 http://archive.ubuntu.com/ubuntu bionic-updates/restricted amd64 Packages [450 kB]\n",
            "Fetched 12.6 MB in 6s (2,246 kB/s)\n",
            "Reading package lists... Done\n",
            "\u001b[K     |████████████████████████████████| 212.3MB 62kB/s \n",
            "\u001b[K     |████████████████████████████████| 204kB 44.5MB/s \n",
            "\u001b[?25h  Building wheel for pyspark (setup.py) ... \u001b[?25l\u001b[?25hdone\n"
          ],
          "name": "stdout"
        }
      ]
    },
    {
      "cell_type": "code",
      "metadata": {
        "id": "YCRJXkM-GMFO"
      },
      "source": [
        "import os\n",
        "os.environ[\"JAVA_HOME\"] = \"/usr/lib/jvm/java-8-openjdk-amd64\"\n",
        "os.environ[\"SPARK_HOME\"] = \"/content/spark-2.4.7-bin-hadoop2.7\""
      ],
      "execution_count": null,
      "outputs": []
    },
    {
      "cell_type": "code",
      "metadata": {
        "id": "sYMWdAKxGS41"
      },
      "source": [
        "import findspark\n",
        "findspark.init()\n",
        "from pyspark.sql import SparkSession\n",
        "from pyspark import SparkFiles"
      ],
      "execution_count": null,
      "outputs": []
    },
    {
      "cell_type": "code",
      "metadata": {
        "id": "iNZXUjrqGmG-"
      },
      "source": [
        "spark = SparkSession.builder.appName(\"luizalabs\").master(\"local[*]\").getOrCreate()"
      ],
      "execution_count": null,
      "outputs": []
    },
    {
      "cell_type": "markdown",
      "metadata": {
        "id": "abvmLejVj0ea"
      },
      "source": [
        "## Desafio 1"
      ]
    },
    {
      "cell_type": "code",
      "metadata": {
        "id": "rCfQeA2MGoj4"
      },
      "source": [
        "url_wc = \"https://storage.googleapis.com/luizalabs-hiring-test/wordcount.txt\""
      ],
      "execution_count": null,
      "outputs": []
    },
    {
      "cell_type": "code",
      "metadata": {
        "id": "0aSPNAuYGuSk"
      },
      "source": [
        "spark.sparkContext.addFile(url_wc)"
      ],
      "execution_count": null,
      "outputs": []
    },
    {
      "cell_type": "code",
      "metadata": {
        "id": "Ulf0oe07Gwxi"
      },
      "source": [
        "txt_rdd = spark.sparkContext.textFile(\"file://\" + SparkFiles.get(\"wordcount.txt\"))"
      ],
      "execution_count": null,
      "outputs": []
    },
    {
      "cell_type": "code",
      "metadata": {
        "id": "hao03POtHf2A"
      },
      "source": [
        "wc = txt_rdd.flatMap(lambda line: line.split(\" \")).map(lambda word: (word, 0))"
      ],
      "execution_count": null,
      "outputs": []
    },
    {
      "cell_type": "code",
      "metadata": {
        "id": "y_9DtkgZHs-Q"
      },
      "source": [
        "df = wc.toDF([\"word\", \"length\"])"
      ],
      "execution_count": null,
      "outputs": []
    },
    {
      "cell_type": "code",
      "metadata": {
        "id": "UPlaEF7nyNbh"
      },
      "source": [
        "from pyspark.sql.functions import lower, col, udf\n",
        "df_lower = df.select(lower(col('word')).alias('word'), col(\"length\"))"
      ],
      "execution_count": null,
      "outputs": []
    },
    {
      "cell_type": "code",
      "metadata": {
        "colab": {
          "base_uri": "https://localhost:8080/"
        },
        "id": "mGR6pKaaRhyS",
        "outputId": "da875723-22d3-466f-f0cb-9fb0bfecf834"
      },
      "source": [
        "df_lower.show()"
      ],
      "execution_count": null,
      "outputs": [
        {
          "output_type": "stream",
          "text": [
            "+----------+------+\n",
            "|      word|length|\n",
            "+----------+------+\n",
            "|hendrerit.|     0|\n",
            "|    montes|     0|\n",
            "|     purus|     0|\n",
            "|    luctus|     0|\n",
            "|   dictum,|     0|\n",
            "|       est|     0|\n",
            "|    mattis|     0|\n",
            "|       est|     0|\n",
            "| phasellus|     0|\n",
            "| dignissim|     0|\n",
            "|   rhoncus|     0|\n",
            "|   cubilia|     0|\n",
            "|       sit|     0|\n",
            "|      nunc|     0|\n",
            "|        at|     0|\n",
            "|  interdum|     0|\n",
            "|   vivamus|     0|\n",
            "|    luctus|     0|\n",
            "|      ante|     0|\n",
            "|       ac.|     0|\n",
            "+----------+------+\n",
            "only showing top 20 rows\n",
            "\n"
          ],
          "name": "stdout"
        }
      ]
    },
    {
      "cell_type": "code",
      "metadata": {
        "id": "WIAj3aHQSr8F"
      },
      "source": [
        "import re\n",
        "from pyspark.sql.types import *\n",
        "remove_special_characters = udf(lambda x: re.sub(\"[^0-9a-zA-Z$]+\",\"\", x), StringType())\n",
        "count_characters = udf(lambda x: len(x))\n",
        "df_special_characters = df_lower.select(remove_special_characters(col(\"word\")).alias(\"word\"), col(\"length\"))"
      ],
      "execution_count": null,
      "outputs": []
    },
    {
      "cell_type": "code",
      "metadata": {
        "colab": {
          "base_uri": "https://localhost:8080/"
        },
        "id": "ONpTbwxnXmVp",
        "outputId": "f706bb41-261c-4b11-fd30-a47e14136121"
      },
      "source": [
        "df_special_characters.show()"
      ],
      "execution_count": null,
      "outputs": [
        {
          "output_type": "stream",
          "text": [
            "+---------+------+\n",
            "|     word|length|\n",
            "+---------+------+\n",
            "|hendrerit|     0|\n",
            "|   montes|     0|\n",
            "|    purus|     0|\n",
            "|   luctus|     0|\n",
            "|   dictum|     0|\n",
            "|      est|     0|\n",
            "|   mattis|     0|\n",
            "|      est|     0|\n",
            "|phasellus|     0|\n",
            "|dignissim|     0|\n",
            "|  rhoncus|     0|\n",
            "|  cubilia|     0|\n",
            "|      sit|     0|\n",
            "|     nunc|     0|\n",
            "|       at|     0|\n",
            "| interdum|     0|\n",
            "|  vivamus|     0|\n",
            "|   luctus|     0|\n",
            "|     ante|     0|\n",
            "|       ac|     0|\n",
            "+---------+------+\n",
            "only showing top 20 rows\n",
            "\n"
          ],
          "name": "stdout"
        }
      ]
    },
    {
      "cell_type": "code",
      "metadata": {
        "colab": {
          "base_uri": "https://localhost:8080/"
        },
        "id": "Ok751gmeiE42",
        "outputId": "914f6e3f-a866-4ec1-fdb1-5be2647aa380"
      },
      "source": [
        "df_agg = df_special_characters.groupBy(\"word\").agg(count_characters(col(\"word\")).alias(\"length\"))\n",
        "df_agg.show()"
      ],
      "execution_count": null,
      "outputs": [
        {
          "output_type": "stream",
          "text": [
            "+------------+------+\n",
            "|        word|length|\n",
            "+------------+------+\n",
            "|   porttitor|     9|\n",
            "|       curae|     5|\n",
            "|        odio|     4|\n",
            "|    sociosqu|     8|\n",
            "|    volutpat|     8|\n",
            "|    interdum|     8|\n",
            "|     pretium|     7|\n",
            "|   hendrerit|     9|\n",
            "|    sagittis|     8|\n",
            "|       netus|     5|\n",
            "|sollicitudin|    12|\n",
            "|       velit|     5|\n",
            "|   hymenaeos|     9|\n",
            "|       lorem|     5|\n",
            "|         nam|     3|\n",
            "|       vitae|     5|\n",
            "|    molestie|     8|\n",
            "|   penatibus|     9|\n",
            "|         non|     3|\n",
            "|    placerat|     8|\n",
            "+------------+------+\n",
            "only showing top 20 rows\n",
            "\n"
          ],
          "name": "stdout"
        }
      ]
    },
    {
      "cell_type": "code",
      "metadata": {
        "colab": {
          "base_uri": "https://localhost:8080/"
        },
        "id": "CPw5COmydosT",
        "outputId": "e6e9c4a1-a817-4bf3-9b42-17604af69772"
      },
      "source": [
        "df_filter = df_agg.filter(col(\"length\") <= 10)\n",
        "df_filter.show()"
      ],
      "execution_count": null,
      "outputs": [
        {
          "output_type": "stream",
          "text": [
            "+---------+------+\n",
            "|     word|length|\n",
            "+---------+------+\n",
            "|porttitor|     9|\n",
            "|    curae|     5|\n",
            "|     odio|     4|\n",
            "| sociosqu|     8|\n",
            "| volutpat|     8|\n",
            "| interdum|     8|\n",
            "|  pretium|     7|\n",
            "|hendrerit|     9|\n",
            "| sagittis|     8|\n",
            "|    netus|     5|\n",
            "|    velit|     5|\n",
            "|hymenaeos|     9|\n",
            "|    lorem|     5|\n",
            "|      nam|     3|\n",
            "|    vitae|     5|\n",
            "| molestie|     8|\n",
            "|penatibus|     9|\n",
            "|      non|     3|\n",
            "| placerat|     8|\n",
            "|     quam|     4|\n",
            "+---------+------+\n",
            "only showing top 20 rows\n",
            "\n"
          ],
          "name": "stdout"
        }
      ]
    },
    {
      "cell_type": "code",
      "metadata": {
        "id": "pv3ent3diQPc"
      },
      "source": [
        "maiores_que_10 = df_agg.filter(col(\"length\") > 10).count()"
      ],
      "execution_count": null,
      "outputs": []
    },
    {
      "cell_type": "code",
      "metadata": {
        "id": "GWoONFFKZoHK"
      },
      "source": [
        "maiores_que_10_list = [[\"maiores_que_10\", maiores_que_10]]"
      ],
      "execution_count": null,
      "outputs": []
    },
    {
      "cell_type": "code",
      "metadata": {
        "colab": {
          "base_uri": "https://localhost:8080/"
        },
        "id": "Ze1d_LsJiKNX",
        "outputId": "d73d57be-48a9-4928-ec6d-c9182a254329"
      },
      "source": [
        "df_maiores_que_10 = spark.createDataFrame(maiores_que_10_list, [\"word\", \"length\"])\n",
        "df_maiores_que_10.show()"
      ],
      "execution_count": null,
      "outputs": [
        {
          "output_type": "stream",
          "text": [
            "+--------------+------+\n",
            "|          word|length|\n",
            "+--------------+------+\n",
            "|maiores_que_10|     7|\n",
            "+--------------+------+\n",
            "\n"
          ],
          "name": "stdout"
        }
      ]
    },
    {
      "cell_type": "code",
      "metadata": {
        "id": "TRS9Hx_viVin"
      },
      "source": [
        "df_final = df_filter.union(df_maiores_que_10)"
      ],
      "execution_count": null,
      "outputs": []
    },
    {
      "cell_type": "code",
      "metadata": {
        "id": "3mnj9UPji2vo"
      },
      "source": [
        "df_final.repartition(1).write.option(\"header\",\"true\").option(\"sep\",\",\").mode(\"overwrite\").csv(\"count_letters.csv\")"
      ],
      "execution_count": null,
      "outputs": []
    },
    {
      "cell_type": "markdown",
      "metadata": {
        "id": "V5tu3aKTj3mS"
      },
      "source": [
        "## Desafio 2"
      ]
    },
    {
      "cell_type": "code",
      "metadata": {
        "id": "F-2Y4JJgj49t"
      },
      "source": [
        "url_pedidos = \"https://storage.googleapis.com/luizalabs-hiring-test/clientes_pedidos.csv\""
      ],
      "execution_count": null,
      "outputs": []
    },
    {
      "cell_type": "code",
      "metadata": {
        "id": "Xy1ruOFWme9M"
      },
      "source": [
        "spark.sparkContext.addFile(url_pedidos)"
      ],
      "execution_count": null,
      "outputs": []
    },
    {
      "cell_type": "code",
      "metadata": {
        "colab": {
          "base_uri": "https://localhost:8080/"
        },
        "id": "x-G6O8F-m0N-",
        "outputId": "b95d69c3-9b39-489b-fc1b-c85b37dd3cff"
      },
      "source": [
        "df_clientes_pedidos = spark.read.csv(\"file://\" +  SparkFiles.get(\"clientes_pedidos.csv\"), header=True, sep=',')\n",
        "df_clientes_pedidos.show()"
      ],
      "execution_count": null,
      "outputs": [
        {
          "output_type": "stream",
          "text": [
            "+--------------------+--------------------+-----------------------+-----------+\n",
            "|       codigo_pedido|      codigo_cliente|data_nascimento_cliente|data_pedido|\n",
            "+--------------------+--------------------+-----------------------+-----------+\n",
            "|bc8b03a005d5bf742...|b07af86a4a6870737...|    1985-12-04 00:00:00| 1542974527|\n",
            "|19b0583adf75322cc...|eaaf6b26ef3b9712e...|    1979-11-14 00:00:00| 1542998573|\n",
            "|58fafb698b6d343e0...|c69f2ab5fc61484d7...|    1989-07-25 00:00:00| 1543007822|\n",
            "|79dd9f6c88ba32c97...|b4067845511997517...|    1953-12-14 00:00:00| 1542966096|\n",
            "|968806d40adf6aa8c...|7eecbc06bfec32b80...|    1985-05-03 00:00:00| 1543000756|\n",
            "|b8c6e74cf1b462489...|f240c43e82dfe3ca0...|    1980-04-16 00:00:00| 1542993637|\n",
            "|5d91ea3b69a22d55b...|ae03fddbb707cb739...|    1991-11-18 00:00:00| 1542996459|\n",
            "|5e48766af0ffdfb60...|156f291101e8ba36b...|    1974-01-04 00:00:00| 1543004877|\n",
            "|f85c3fdcb417a3431...|4cf8efefa3c5aef67...|    1985-04-18 00:00:00| 1542997957|\n",
            "|8ff2a83de50bb0695...|772b6ad0ae61400f6...|    1981-09-15 00:00:00| 1542999649|\n",
            "|c96bcb263b22c5640...|013590f6b3bcbc02c...|    1996-04-17 00:00:00| 1543004689|\n",
            "|b3a20e4bfb3799d70...|52c69e3a573310818...|    1970-11-15 00:00:00| 1542976499|\n",
            "|f87281ade12857969...|3d3ad8389c5262afd...|    1964-10-12 00:00:00| 1542999660|\n",
            "|01674a423e4eda474...|f7bc8b81f94b848ef...|    1990-06-25 00:00:00| 1542991177|\n",
            "|8728c27f783192e05...|c91b57f94638bbb53...|    1979-09-30 00:00:00| 1542994794|\n",
            "|52cef602e302c7ae5...|f83268e057fcc6e34...|    1958-05-13 00:00:00| 1542964183|\n",
            "|16fa4f9424ccc7288...|d0492d15d96771975...|    1976-05-18 00:00:00| 1543000244|\n",
            "|e0db31fffd47a2afe...|5155e0e22d6e366cd...|    1988-01-13 00:00:00| 1542981370|\n",
            "|01bdf1612fdfe231b...|5f6fd6bdd0b9e7c29...|    1993-08-10 00:00:00| 1542969498|\n",
            "|9f75beb74912623e0...|f7220e557854dcace...|    1978-11-20 00:00:00| 1542996202|\n",
            "+--------------------+--------------------+-----------------------+-----------+\n",
            "only showing top 20 rows\n",
            "\n"
          ],
          "name": "stdout"
        }
      ]
    },
    {
      "cell_type": "code",
      "metadata": {
        "id": "yvtyKD3YddBc"
      },
      "source": [
        "from datetime import date\n",
        "from datetime import datetime"
      ],
      "execution_count": null,
      "outputs": []
    },
    {
      "cell_type": "code",
      "metadata": {
        "id": "rbyiyElFYoS_"
      },
      "source": [
        "def calculate_age(born):\n",
        "    today = date.today()\n",
        "    return today.year - born.year - ((today.month, today.day) < (born.month, born.day))"
      ],
      "execution_count": null,
      "outputs": []
    },
    {
      "cell_type": "code",
      "metadata": {
        "id": "euISAzoNn6eU"
      },
      "source": [
        "convert_age = udf(lambda x: calculate_age(datetime.fromisoformat(x).date()))\n",
        "convert_timestamp = udf(lambda x: str(date.fromtimestamp(int(x))))\n",
        "\n",
        "df_pedidos_with_date = df_clientes_pedidos.select(col(\"codigo_pedido\"), col(\"codigo_cliente\"), convert_age(col(\"data_nascimento_cliente\")).alias(\"idade\"), convert_timestamp(col(\"data_pedido\")).alias(\"data_pedido\"))"
      ],
      "execution_count": null,
      "outputs": []
    },
    {
      "cell_type": "code",
      "metadata": {
        "colab": {
          "base_uri": "https://localhost:8080/"
        },
        "id": "4-LNtuCwrrTq",
        "outputId": "e88b184e-9bf8-4b2d-ef0b-a03bb3ca9437"
      },
      "source": [
        "df_pedidos_with_date.show()"
      ],
      "execution_count": null,
      "outputs": [
        {
          "output_type": "stream",
          "text": [
            "+--------------------+--------------------+-----+-----------+\n",
            "|       codigo_pedido|      codigo_cliente|idade|data_pedido|\n",
            "+--------------------+--------------------+-----+-----------+\n",
            "|bc8b03a005d5bf742...|b07af86a4a6870737...|   35| 2018-11-23|\n",
            "|19b0583adf75322cc...|eaaf6b26ef3b9712e...|   41| 2018-11-23|\n",
            "|58fafb698b6d343e0...|c69f2ab5fc61484d7...|   31| 2018-11-23|\n",
            "|79dd9f6c88ba32c97...|b4067845511997517...|   67| 2018-11-23|\n",
            "|968806d40adf6aa8c...|7eecbc06bfec32b80...|   36| 2018-11-23|\n",
            "|b8c6e74cf1b462489...|f240c43e82dfe3ca0...|   41| 2018-11-23|\n",
            "|5d91ea3b69a22d55b...|ae03fddbb707cb739...|   29| 2018-11-23|\n",
            "|5e48766af0ffdfb60...|156f291101e8ba36b...|   47| 2018-11-23|\n",
            "|f85c3fdcb417a3431...|4cf8efefa3c5aef67...|   36| 2018-11-23|\n",
            "|8ff2a83de50bb0695...|772b6ad0ae61400f6...|   39| 2018-11-23|\n",
            "|c96bcb263b22c5640...|013590f6b3bcbc02c...|   25| 2018-11-23|\n",
            "|b3a20e4bfb3799d70...|52c69e3a573310818...|   50| 2018-11-23|\n",
            "|f87281ade12857969...|3d3ad8389c5262afd...|   56| 2018-11-23|\n",
            "|01674a423e4eda474...|f7bc8b81f94b848ef...|   30| 2018-11-23|\n",
            "|8728c27f783192e05...|c91b57f94638bbb53...|   41| 2018-11-23|\n",
            "|52cef602e302c7ae5...|f83268e057fcc6e34...|   62| 2018-11-23|\n",
            "|16fa4f9424ccc7288...|d0492d15d96771975...|   44| 2018-11-23|\n",
            "|e0db31fffd47a2afe...|5155e0e22d6e366cd...|   33| 2018-11-23|\n",
            "|01bdf1612fdfe231b...|5f6fd6bdd0b9e7c29...|   27| 2018-11-23|\n",
            "|9f75beb74912623e0...|f7220e557854dcace...|   42| 2018-11-23|\n",
            "+--------------------+--------------------+-----+-----------+\n",
            "only showing top 20 rows\n",
            "\n"
          ],
          "name": "stdout"
        }
      ]
    },
    {
      "cell_type": "code",
      "metadata": {
        "id": "Crw3V3ZGxTCv"
      },
      "source": [
        "bf_2017 = \"2017-11-24\"\n",
        "bf_2018 = \"2018-11-23\""
      ],
      "execution_count": null,
      "outputs": []
    },
    {
      "cell_type": "code",
      "metadata": {
        "id": "iFxwGxh1Dc2r"
      },
      "source": [
        "from pyspark.sql.functions import collect_list\n",
        "from pyspark.sql.functions import concat_ws, concat, lit"
      ],
      "execution_count": null,
      "outputs": []
    },
    {
      "cell_type": "code",
      "metadata": {
        "id": "Y7BCzwMuRfmj"
      },
      "source": [
        "df_bf = df_pedidos_with_date.filter((col(\"data_pedido\") == bf_2017) | (col(\"data_pedido\") == bf_2018))\\\n",
        ".groupBy(col(\"codigo_cliente\")).count()\\\n",
        ".filter(col(\"count\") > 2)"
      ],
      "execution_count": null,
      "outputs": []
    },
    {
      "cell_type": "code",
      "metadata": {
        "colab": {
          "base_uri": "https://localhost:8080/"
        },
        "id": "s7RuhGtJ1bIC",
        "outputId": "ffd1baa5-e48b-4ad3-f45e-8f5159bf200c"
      },
      "source": [
        "df_lista_pedidos = df_pedidos_with_date.groupBy(col(\"codigo_cliente\"), col(\"idade\"))\\\n",
        ".agg(concat_ws(\", \", collect_list(concat(lit(\"[\"), concat_ws(\", \", \"codigo_pedido\", \"data_pedido\"), lit(\"]\")))).alias(\"lista_pedidos\"))\n",
        "\n",
        "df_lista_pedidos.show(truncate=False)"
      ],
      "execution_count": null,
      "outputs": [
        {
          "output_type": "stream",
          "text": [
            "+--------------------------------+-----+----------------------------------------------------------------------------------------------+\n",
            "|codigo_cliente                  |idade|lista_pedidos                                                                                 |\n",
            "+--------------------------------+-----+----------------------------------------------------------------------------------------------+\n",
            "|00711c564e25613a9281ed955cc37a26|69   |[3768e44e64d849037460a284b0474200, 2018-11-23]                                                |\n",
            "|0080ec07c29842e585b0178df7578bf5|31   |[256a770e065be6d11b3ae637c95b0607, 2018-11-23]                                                |\n",
            "|00bef32916008fcce86ec95db54dc994|61   |[d3d1b1681dfba88fda386013e6745475, 2017-11-01], [c9ae109d2963de5ae83e1bcdeb3533ec, 2017-11-01]|\n",
            "|01217152ec6a750d888d49bd6a7033be|55   |[40aa57266ca96666781aeb8178a17e9d, 2018-11-03]                                                |\n",
            "|0133726c9e23d25603b3cb46e0bd4030|35   |[c075b803b60c038ae96ee7d31a9458be, 2018-11-11]                                                |\n",
            "|0161278f03b36b57edec0213dd545a9e|44   |[b2322c8531a1033c5cc832e25ab034b4, 2017-11-10], [1f24ade1a30f344083dc719ed345381d, 2017-11-10]|\n",
            "|017462a3af77c8d8e8ca4e1b0e0940c7|57   |[ea53ba260d2db693adfb11abeacf6bb4, 2017-11-25]                                                |\n",
            "|021566e84df758449898c760f60d2bd3|37   |[d9c091f800c56c93c134a117dee2407b, 2018-11-24]                                                |\n",
            "|021893f134015e35d6e4c2dc019c2ea8|59   |[6a7982da1d5dbc4c1af17745f6f8f3b5, 2018-11-23]                                                |\n",
            "|02ac00ead3777e1a051fc1b31441ee07|42   |[616d439f5330f5b85f93999d604a5894, 2018-11-23]                                                |\n",
            "|02c62d869a857246f06a6c35ea2f4cd7|40   |[7d102886464e5179b0e11a79f61b72db, 2017-11-18]                                                |\n",
            "|02dd71ce312b998df4c962d4423c20cb|23   |[ab41ddfd0c98a6c575b92cde0b5be256, 2017-11-04]                                                |\n",
            "|030292cef324b18194d9d1ab3f6f1eb4|37   |[5f0f1586fd5389a18b98b4d11a2a4888, 2018-11-06]                                                |\n",
            "|032312aeb60a000dcc8ff17747392f87|83   |[a0833ddfc08a22634e6bcc41a9a113bb, 2017-11-14]                                                |\n",
            "|033167d31f5941b5209aca23a1891fd9|35   |[c29e15c4363c72b8b373d6d9f7c5efc7, 2018-11-06]                                                |\n",
            "|03ac0133d0152dadbf86f29a50b5e2a2|41   |[d965148bd6e34595799b0ee7ad2740bb, 2018-11-24]                                                |\n",
            "|03b2e4734978684d2af8ddf1f9e086a5|40   |[101022498155c1fa0c591b6d60d400dc, 2018-11-23]                                                |\n",
            "|040f38991a7fa8805c3476e830bbf851|59   |[d00e45e83e717cab68f40501873c95d7, 2018-11-23], [215dcadc7c90a974e3b818affb6ffe25, 2018-11-23]|\n",
            "|042cf08bddf99536575f4891645e91f5|24   |[4bbf74c9d9b33e9af3680f4a877ea624, 2018-11-23]                                                |\n",
            "|04610026a40e764a5e74aa24294c4745|57   |[87a86613e810ee5f2fd3031d390948a5, 2018-11-22]                                                |\n",
            "+--------------------------------+-----+----------------------------------------------------------------------------------------------+\n",
            "only showing top 20 rows\n",
            "\n"
          ],
          "name": "stdout"
        }
      ]
    },
    {
      "cell_type": "code",
      "metadata": {
        "colab": {
          "base_uri": "https://localhost:8080/"
        },
        "id": "r56qyzC08QIg",
        "outputId": "837ad51f-9f67-49bb-be25-6367ed466711"
      },
      "source": [
        "df_bf.show()"
      ],
      "execution_count": null,
      "outputs": [
        {
          "output_type": "stream",
          "text": [
            "+--------------------+-----+\n",
            "|      codigo_cliente|count|\n",
            "+--------------------+-----+\n",
            "|b67ef7abecc0a8e88...|    3|\n",
            "|28688f66084a7f1de...|    3|\n",
            "|3f89d915a06a3d01e...|    3|\n",
            "|c371799c2befffb67...|    3|\n",
            "|e7c52e68263476a2d...|    3|\n",
            "|3bfcd49a281054bbf...|    3|\n",
            "|f184a197ec54c7eb1...|    3|\n",
            "|1375a4e01d4811249...|    3|\n",
            "|3531fd9696a342b74...|    4|\n",
            "|bd0455c549e900b23...|    3|\n",
            "|4cf0d3732731a0653...|    3|\n",
            "|c512a4d48ee9388e1...|    3|\n",
            "|057ae5d7ef3fcdd74...|    3|\n",
            "|d2b6a6676c81b7e84...|    3|\n",
            "|e40809b3ff1805b54...|    4|\n",
            "|c3f1cb573d199ae93...|    4|\n",
            "|18d6c857acbfb21b5...|    3|\n",
            "|3860f681456fae15d...|    3|\n",
            "|fcf0d288e3488a3ab...|    3|\n",
            "|01b9f95dce03e2382...|    3|\n",
            "+--------------------+-----+\n",
            "only showing top 20 rows\n",
            "\n"
          ],
          "name": "stdout"
        }
      ]
    },
    {
      "cell_type": "code",
      "metadata": {
        "id": "kxPo04Ur8Su7"
      },
      "source": [
        "df_pedidos_with_count = df_lista_pedidos.alias('a').join(df_bf.alias('b'), df_lista_pedidos.codigo_cliente == df_bf.codigo_cliente, how=\"inner\")\\\n",
        ".select(\"a.codigo_cliente\", \"a.idade\", \"a.lista_pedidos\", \"b.count\")\\\n",
        ".filter(col(\"idade\") < 30)"
      ],
      "execution_count": null,
      "outputs": []
    },
    {
      "cell_type": "code",
      "metadata": {
        "colab": {
          "base_uri": "https://localhost:8080/"
        },
        "id": "pGpMa6gWUc1S",
        "outputId": "84f7bbc7-4169-4b8f-abae-75d86f4c56fc"
      },
      "source": [
        "df_pedidos_with_count.show()"
      ],
      "execution_count": null,
      "outputs": [
        {
          "output_type": "stream",
          "text": [
            "+--------------------+-----+--------------------+-----+\n",
            "|      codigo_cliente|idade|       lista_pedidos|count|\n",
            "+--------------------+-----+--------------------+-----+\n",
            "|38f1d0ad2967e6cf1...|   21|[acfdeb3c3cfd98b2...|    3|\n",
            "|919c5078c124581e2...|   26|[e42f8973bd5b9aa8...|    3|\n",
            "|3224ac7dee3bd6196...|   21|[110fdb292cc6b2cc...|    3|\n",
            "|8ca15b56dca62d6b9...|   26|[4e6a62283d39c1c5...|    3|\n",
            "|55a021531f7493737...|   23|[0ab3b13962c74a61...|    3|\n",
            "|f8c3dababb4fdf6bd...|   25|[4a2410f36334cd4b...|    3|\n",
            "|f0b083150ce114387...|   26|[8d47e8b849944d95...|    3|\n",
            "|a6b0fe6ef5ebf35a7...|   26|[4e66698cdd595200...|    3|\n",
            "|79d7089bd009dddb7...|   27|[9d5d15040ada9530...|    3|\n",
            "|dcd6e2afc7e67c4fa...|   24|[0dd83caa7e723cf4...|    3|\n",
            "|d786fd2f6005eab61...|   27|[0f60c7be937aab94...|    3|\n",
            "|0cf936eed633e9892...|   25|[fabf84630a8a5936...|    3|\n",
            "|4112bda7877566650...|   24|[08d28852abb06109...|    3|\n",
            "|a18363603cedb08e9...|   28|[a4f400eeb4813edb...|   38|\n",
            "|6e41c9257d0c33081...|   29|[45ca94c92bcf3672...|    3|\n",
            "|d639cb78545b7c00d...|   28|[787f7bb91d3e155b...|    3|\n",
            "|a3c3bc3ebac103447...|   11|[07089f306713afa3...|    3|\n",
            "|741a1bc4411188ed7...|   14|[422c2b8ae5b39c80...|  203|\n",
            "|660bd95b7dca68b07...|   21|[e947830ee8311293...|    3|\n",
            "|9ba43b1b796103b4f...|   19|[ae5f74bbf632921f...|  692|\n",
            "+--------------------+-----+--------------------+-----+\n",
            "only showing top 20 rows\n",
            "\n"
          ],
          "name": "stdout"
        }
      ]
    },
    {
      "cell_type": "code",
      "metadata": {
        "id": "mfRsvJnGWQ_K"
      },
      "source": [
        "df_final_2 = df_pedidos_with_count.select(col(\"codigo_cliente\"), col(\"lista_pedidos\"), col(\"count\").alias(\"numero_pedidos\"), col(\"idade\"))"
      ],
      "execution_count": null,
      "outputs": []
    },
    {
      "cell_type": "code",
      "metadata": {
        "colab": {
          "base_uri": "https://localhost:8080/"
        },
        "id": "rt7-T5RQXAFn",
        "outputId": "e94dc5be-5fb8-4787-e14b-afa4b4b20ccf"
      },
      "source": [
        "df_final_2.show()"
      ],
      "execution_count": null,
      "outputs": [
        {
          "output_type": "stream",
          "text": [
            "+--------------------+--------------------+--------------+-----+\n",
            "|      codigo_cliente|       lista_pedidos|numero_pedidos|idade|\n",
            "+--------------------+--------------------+--------------+-----+\n",
            "|38f1d0ad2967e6cf1...|[acfdeb3c3cfd98b2...|             3|   21|\n",
            "|919c5078c124581e2...|[e42f8973bd5b9aa8...|             3|   26|\n",
            "|3224ac7dee3bd6196...|[110fdb292cc6b2cc...|             3|   21|\n",
            "|8ca15b56dca62d6b9...|[4e6a62283d39c1c5...|             3|   26|\n",
            "|55a021531f7493737...|[0ab3b13962c74a61...|             3|   23|\n",
            "|f8c3dababb4fdf6bd...|[4a2410f36334cd4b...|             3|   25|\n",
            "|f0b083150ce114387...|[8d47e8b849944d95...|             3|   26|\n",
            "|a6b0fe6ef5ebf35a7...|[4e66698cdd595200...|             3|   26|\n",
            "|79d7089bd009dddb7...|[9d5d15040ada9530...|             3|   27|\n",
            "|dcd6e2afc7e67c4fa...|[0dd83caa7e723cf4...|             3|   24|\n",
            "|d786fd2f6005eab61...|[0f60c7be937aab94...|             3|   27|\n",
            "|0cf936eed633e9892...|[fabf84630a8a5936...|             3|   25|\n",
            "|4112bda7877566650...|[08d28852abb06109...|             3|   24|\n",
            "|a18363603cedb08e9...|[a4f400eeb4813edb...|            38|   28|\n",
            "|6e41c9257d0c33081...|[45ca94c92bcf3672...|             3|   29|\n",
            "|d639cb78545b7c00d...|[787f7bb91d3e155b...|             3|   28|\n",
            "|a3c3bc3ebac103447...|[07089f306713afa3...|             3|   11|\n",
            "|741a1bc4411188ed7...|[422c2b8ae5b39c80...|           203|   14|\n",
            "|660bd95b7dca68b07...|[e947830ee8311293...|             3|   21|\n",
            "|9ba43b1b796103b4f...|[ae5f74bbf632921f...|           692|   19|\n",
            "+--------------------+--------------------+--------------+-----+\n",
            "only showing top 20 rows\n",
            "\n"
          ],
          "name": "stdout"
        }
      ]
    },
    {
      "cell_type": "code",
      "metadata": {
        "id": "EH1d1BtIZWIX"
      },
      "source": [
        "df_final_2.repartition(1).write.option(\"header\",\"true\").option(\"sep\",\",\").mode(\"overwrite\").csv(\"clients_orders_bf.csv\")"
      ],
      "execution_count": null,
      "outputs": []
    },
    {
      "cell_type": "code",
      "metadata": {
        "id": "ZxKrXZDwe446"
      },
      "source": [
        ""
      ],
      "execution_count": null,
      "outputs": []
    }
  ]
}